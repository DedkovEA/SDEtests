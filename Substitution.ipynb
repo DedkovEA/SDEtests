{
 "cells": [
  {
   "cell_type": "markdown",
   "id": "fe09b32a",
   "metadata": {},
   "source": [
    "Вспомним решаемую проблему:\n",
    "$$\n",
    "\\boldsymbol{x}(t) = \\exp\\left\\{ \\hat{A}t + \\sum\\limits_i \\hat{B}_i W_i \\right\\}\\boldsymbol{x}_0\n",
    "$$\n",
    "На основе формулы Ито конструируем стохастическое дифференциальное уравнение с таким решением:\n",
    "$$\n",
    "d\\boldsymbol{x} = \\left(\\hat{A} + \\dfrac{1}{2} \\sum\\limits_{i}\\hat{B}_i^2 \\right)\\boldsymbol{x} dt + \\sum\\limits_i \\hat{B}_i\\boldsymbol{x}dW_i  \n",
    "$$\n",
    "Положим здесь:\n",
    "$$\n",
    "\\hat{A} = \\begin{pmatrix}\n",
    "-\\frac{1}{10} & -2\\\\\n",
    "2 & -\\frac{1}{10}\n",
    "\\end{pmatrix},  \\qquad \\hat{B}_1 = \\begin{pmatrix}\n",
    "0 & -0.1\\\\\n",
    "0.1 & -0.1\n",
    "\\end{pmatrix},  \\qquad \\hat{B}_2 = \\begin{pmatrix}\n",
    "0 & -0.2\\\\\n",
    "-0.2 & 0.3\n",
    "\\end{pmatrix}\n",
    "$$"
   ]
  },
  {
   "cell_type": "code",
   "execution_count": 1,
   "id": "6fc43785",
   "metadata": {},
   "outputs": [],
   "source": [
    "from sympy import *"
   ]
  },
  {
   "cell_type": "code",
   "execution_count": 84,
   "id": "d88b0669",
   "metadata": {},
   "outputs": [],
   "source": [
    "g, w = symbols('gamma, omega', real=True)\n",
    "\n",
    "A = Matrix([[g, -w],[w, g]])\n",
    "X = MatrixSymbol('X', 2, 1)\n",
    "t, dW1, dW2, dt = symbols(\"t, dW1, dW2, dt\", real=True)\n",
    "B1 = MatrixSymbol(\"B[1]\", 2, 2)\n",
    "B2 = MatrixSymbol(\"B[2]\", 2, 2)\n",
    "r = symbols('r', positive=True)\n",
    "phi = symbols(\"phi\")\n",
    "RF = Matrix([r, phi])"
   ]
  },
  {
   "cell_type": "code",
   "execution_count": 87,
   "id": "cb65f6a2",
   "metadata": {},
   "outputs": [],
   "source": [
    "dX = (A + Rational(1,2)*(B1**2))*X*dt + B1*X*dW1"
   ]
  },
  {
   "cell_type": "code",
   "execution_count": 88,
   "id": "30100f1b",
   "metadata": {},
   "outputs": [
    {
     "data": {
      "text/latex": [
       "$\\displaystyle \\left[\\begin{matrix}dW_{1} \\left(B[1]_{0, 0} X_{0, 0} + B[1]_{0, 1} X_{1, 0}\\right) + dt \\left(\\left(\\gamma + \\frac{B[1]_{0, 0}^{2}}{2} + \\frac{B[1]_{0, 1} B[1]_{1, 0}}{2}\\right) X_{0, 0} + \\left(- \\omega + \\frac{B[1]_{0, 0} B[1]_{0, 1}}{2} + \\frac{B[1]_{0, 1} B[1]_{1, 1}}{2}\\right) X_{1, 0}\\right)\\\\dW_{1} \\left(B[1]_{1, 0} X_{0, 0} + B[1]_{1, 1} X_{1, 0}\\right) + dt \\left(\\left(\\gamma + \\frac{B[1]_{0, 1} B[1]_{1, 0}}{2} + \\frac{B[1]_{1, 1}^{2}}{2}\\right) X_{1, 0} + \\left(\\omega + \\frac{B[1]_{0, 0} B[1]_{1, 0}}{2} + \\frac{B[1]_{1, 0} B[1]_{1, 1}}{2}\\right) X_{0, 0}\\right)\\end{matrix}\\right]$"
      ],
      "text/plain": [
       "Matrix([\n",
       "[dW1*(B[1][0, 0]*X[0, 0] + B[1][0, 1]*X[1, 0]) + dt*((gamma + B[1][0, 0]**2/2 + B[1][0, 1]*B[1][1, 0]/2)*X[0, 0] + (-omega + B[1][0, 0]*B[1][0, 1]/2 + B[1][0, 1]*B[1][1, 1]/2)*X[1, 0])],\n",
       "[ dW1*(B[1][1, 0]*X[0, 0] + B[1][1, 1]*X[1, 0]) + dt*((gamma + B[1][0, 1]*B[1][1, 0]/2 + B[1][1, 1]**2/2)*X[1, 0] + (omega + B[1][0, 0]*B[1][1, 0]/2 + B[1][1, 0]*B[1][1, 1]/2)*X[0, 0])]])"
      ]
     },
     "execution_count": 88,
     "metadata": {},
     "output_type": "execute_result"
    }
   ],
   "source": [
    "dX.as_explicit()"
   ]
  },
  {
   "cell_type": "code",
   "execution_count": 89,
   "id": "aac3169b",
   "metadata": {},
   "outputs": [],
   "source": [
    "def ItoDiff(f, t, X, dt, dX):\n",
    "    result = f.diff(t)*dt\n",
    "    N = shape(X)[0]\n",
    "    for i in range(N):\n",
    "        result = result + f.diff(X[i])*dX[i]\n",
    "        for j in range(N):\n",
    "            result = result + Rational(1,2)*f.diff(X[i], X[j])*dX[i]*dX[j]\n",
    "    return result"
   ]
  },
  {
   "cell_type": "markdown",
   "id": "8d554a06",
   "metadata": {},
   "source": [
    "Some tests:"
   ]
  },
  {
   "cell_type": "code",
   "execution_count": 90,
   "id": "954275db",
   "metadata": {},
   "outputs": [],
   "source": [
    "Y = MatrixSymbol(\"Y\", 2, 1)\n",
    "dY = Matrix([dW1 - 2*dW2, -dW1-3*dW2])\n",
    "f = Y[0]**2 + Y[1]**2"
   ]
  },
  {
   "cell_type": "code",
   "execution_count": 91,
   "id": "a439a229",
   "metadata": {},
   "outputs": [
    {
     "data": {
      "text/latex": [
       "$\\displaystyle \\left(- dW_{1} - 3 dW_{2}\\right)^{2} + 2 \\left(- dW_{1} - 3 dW_{2}\\right) Y_{1, 0} + \\left(dW_{1} - 2 dW_{2}\\right)^{2} + 2 \\left(dW_{1} - 2 dW_{2}\\right) Y_{0, 0}$"
      ],
      "text/plain": [
       "(-dW1 - 3*dW2)**2 + 2*(-dW1 - 3*dW2)*Y[1, 0] + (dW1 - 2*dW2)**2 + 2*(dW1 - 2*dW2)*Y[0, 0]"
      ]
     },
     "execution_count": 91,
     "metadata": {},
     "output_type": "execute_result"
    }
   ],
   "source": [
    "ItoDiff(f, t, Y, dt, dY)"
   ]
  },
  {
   "cell_type": "code",
   "execution_count": 109,
   "id": "b2535abc",
   "metadata": {},
   "outputs": [],
   "source": [
    "rfunc = sqrt(X[0]**2 + X[1]**2)\n",
    "phifunc = atan2(X[1], X[0])\n",
    "dWsubs = {dW1**2:dt, dW2**2:dt, dW1*dW2:0, dt**2:0, dW1*dt:0, dW2*dt:0}\n",
    "Xsubs = {X[0]:RF[0]*cos(RF[1]), X[1]:RF[0]*sin(RF[1])}"
   ]
  },
  {
   "cell_type": "code",
   "execution_count": 126,
   "id": "fadcb1b4",
   "metadata": {},
   "outputs": [],
   "source": [
    "dr = expand(ItoDiff(rfunc, t, X, dt, dX)).subs(dWsubs).subs(Xsubs)"
   ]
  },
  {
   "cell_type": "code",
   "execution_count": 127,
   "id": "22f4e947",
   "metadata": {},
   "outputs": [],
   "source": [
    "dr = trigsimp(dr)"
   ]
  },
  {
   "cell_type": "code",
   "execution_count": 128,
   "id": "80e2f436",
   "metadata": {},
   "outputs": [],
   "source": [
    "dr = powsimp(dr)"
   ]
  },
  {
   "cell_type": "code",
   "execution_count": 129,
   "id": "5ffac66d",
   "metadata": {},
   "outputs": [
    {
     "data": {
      "text/latex": [
       "$\\displaystyle \\frac{dW_{1} r \\left(1 - \\cos{\\left(2 \\phi \\right)}\\right) B[1]_{1, 1}}{2} + \\frac{dW_{1} r \\left(\\cos{\\left(2 \\phi \\right)} + 1\\right) B[1]_{0, 0}}{2} + \\frac{dW_{1} r \\sin{\\left(2 \\phi \\right)} B[1]_{0, 1}}{2} + \\frac{dW_{1} r \\sin{\\left(2 \\phi \\right)} B[1]_{1, 0}}{2} + dt \\gamma r - \\frac{dt r \\left(1 - \\cos{\\left(2 \\phi \\right)}\\right)^{2} B[1]_{1, 1}^{2}}{8} + \\frac{dt r \\left(1 - \\cos{\\left(2 \\phi \\right)}\\right) B[1]_{0, 1}^{2}}{4} + \\frac{dt r \\left(1 - \\cos{\\left(2 \\phi \\right)}\\right) B[1]_{0, 1} B[1]_{1, 0}}{4} + \\frac{dt r \\left(1 - \\cos{\\left(2 \\phi \\right)}\\right) B[1]_{1, 1}^{2}}{2} + \\frac{dt r \\left(- 2 \\sin{\\left(2 \\phi \\right)} + \\sin{\\left(4 \\phi \\right)}\\right) B[1]_{0, 1} B[1]_{1, 1}}{8} + \\frac{dt r \\left(- 2 \\sin{\\left(2 \\phi \\right)} + \\sin{\\left(4 \\phi \\right)}\\right) B[1]_{1, 0} B[1]_{1, 1}}{8} - \\frac{dt r \\left(2 \\sin{\\left(2 \\phi \\right)} + \\sin{\\left(4 \\phi \\right)}\\right) B[1]_{0, 0} B[1]_{0, 1}}{8} - \\frac{dt r \\left(2 \\sin{\\left(2 \\phi \\right)} + \\sin{\\left(4 \\phi \\right)}\\right) B[1]_{0, 0} B[1]_{1, 0}}{8} - \\frac{dt r \\left(\\cos{\\left(2 \\phi \\right)} + 1\\right)^{2} B[1]_{0, 0}^{2}}{8} + \\frac{dt r \\left(\\cos{\\left(2 \\phi \\right)} + 1\\right) B[1]_{0, 0}^{2}}{2} + \\frac{dt r \\left(\\cos{\\left(2 \\phi \\right)} + 1\\right) B[1]_{0, 1} B[1]_{1, 0}}{4} + \\frac{dt r \\left(\\cos{\\left(2 \\phi \\right)} + 1\\right) B[1]_{1, 0}^{2}}{4} + \\frac{dt r \\left(\\cos{\\left(4 \\phi \\right)} - 1\\right) B[1]_{0, 0} B[1]_{1, 1}}{8} + \\frac{dt r \\left(\\cos{\\left(4 \\phi \\right)} - 1\\right) B[1]_{0, 1}^{2}}{16} + \\frac{dt r \\left(\\cos{\\left(4 \\phi \\right)} - 1\\right) B[1]_{0, 1} B[1]_{1, 0}}{8} + \\frac{dt r \\left(\\cos{\\left(4 \\phi \\right)} - 1\\right) B[1]_{1, 0}^{2}}{16} + \\frac{3 dt r \\sin{\\left(2 \\phi \\right)} B[1]_{0, 0} B[1]_{0, 1}}{4} + \\frac{dt r \\sin{\\left(2 \\phi \\right)} B[1]_{0, 0} B[1]_{1, 0}}{4} + \\frac{dt r \\sin{\\left(2 \\phi \\right)} B[1]_{0, 1} B[1]_{1, 1}}{4} + \\frac{3 dt r \\sin{\\left(2 \\phi \\right)} B[1]_{1, 0} B[1]_{1, 1}}{4}$"
      ],
      "text/plain": [
       "dW1*r*(1 - cos(2*phi))*B[1][1, 1]/2 + dW1*r*(cos(2*phi) + 1)*B[1][0, 0]/2 + dW1*r*sin(2*phi)*B[1][0, 1]/2 + dW1*r*sin(2*phi)*B[1][1, 0]/2 + dt*gamma*r - dt*r*(1 - cos(2*phi))**2*B[1][1, 1]**2/8 + dt*r*(1 - cos(2*phi))*B[1][0, 1]**2/4 + dt*r*(1 - cos(2*phi))*B[1][0, 1]*B[1][1, 0]/4 + dt*r*(1 - cos(2*phi))*B[1][1, 1]**2/2 + dt*r*(-2*sin(2*phi) + sin(4*phi))*B[1][0, 1]*B[1][1, 1]/8 + dt*r*(-2*sin(2*phi) + sin(4*phi))*B[1][1, 0]*B[1][1, 1]/8 - dt*r*(2*sin(2*phi) + sin(4*phi))*B[1][0, 0]*B[1][0, 1]/8 - dt*r*(2*sin(2*phi) + sin(4*phi))*B[1][0, 0]*B[1][1, 0]/8 - dt*r*(cos(2*phi) + 1)**2*B[1][0, 0]**2/8 + dt*r*(cos(2*phi) + 1)*B[1][0, 0]**2/2 + dt*r*(cos(2*phi) + 1)*B[1][0, 1]*B[1][1, 0]/4 + dt*r*(cos(2*phi) + 1)*B[1][1, 0]**2/4 + dt*r*(cos(4*phi) - 1)*B[1][0, 0]*B[1][1, 1]/8 + dt*r*(cos(4*phi) - 1)*B[1][0, 1]**2/16 + dt*r*(cos(4*phi) - 1)*B[1][0, 1]*B[1][1, 0]/8 + dt*r*(cos(4*phi) - 1)*B[1][1, 0]**2/16 + 3*dt*r*sin(2*phi)*B[1][0, 0]*B[1][0, 1]/4 + dt*r*sin(2*phi)*B[1][0, 0]*B[1][1, 0]/4 + dt*r*sin(2*phi)*B[1][0, 1]*B[1][1, 1]/4 + 3*dt*r*sin(2*phi)*B[1][1, 0]*B[1][1, 1]/4"
      ]
     },
     "execution_count": 129,
     "metadata": {},
     "output_type": "execute_result"
    }
   ],
   "source": [
    "dr"
   ]
  },
  {
   "cell_type": "code",
   "execution_count": 160,
   "id": "fc283a6c",
   "metadata": {},
   "outputs": [],
   "source": [
    "dphi = expand(ItoDiff(phifunc, t, X, dt, dX)).subs(dWsubs).subs(Xsubs)"
   ]
  },
  {
   "cell_type": "code",
   "execution_count": 162,
   "id": "ca7afe0e",
   "metadata": {},
   "outputs": [],
   "source": [
    "dphi = trigsimp(dphi)"
   ]
  },
  {
   "cell_type": "code",
   "execution_count": 163,
   "id": "0804bc21",
   "metadata": {},
   "outputs": [],
   "source": [
    "dphi = powsimp(dphi)"
   ]
  },
  {
   "cell_type": "code",
   "execution_count": 164,
   "id": "26670238",
   "metadata": {},
   "outputs": [],
   "source": [
    "dphi = expand(dphi)"
   ]
  },
  {
   "cell_type": "code",
   "execution_count": 175,
   "id": "fb8014a8",
   "metadata": {},
   "outputs": [
    {
     "data": {
      "text/latex": [
       "$\\displaystyle \\omega + \\left(- \\frac{B[1]_{0, 0} B[1]_{1, 0}}{4} + \\frac{B[1]_{0, 1} B[1]_{1, 1}}{4}\\right) \\cos^{2}{\\left(2 \\phi \\right)} + \\left(\\frac{B[1]_{0, 1}^{2}}{4} - \\frac{B[1]_{1, 0}^{2}}{4}\\right) \\sin{\\left(2 \\phi \\right)} + \\left(- \\frac{B[1]_{0, 0} B[1]_{0, 1}}{4} - \\frac{B[1]_{0, 0} B[1]_{1, 0}}{8} + \\frac{B[1]_{0, 1} B[1]_{1, 1}}{8} + \\frac{B[1]_{1, 0} B[1]_{1, 1}}{4}\\right) \\cos{\\left(4 \\phi \\right)} + \\left(\\frac{B[1]_{0, 0} B[1]_{0, 1}}{4} - \\frac{B[1]_{0, 0} B[1]_{1, 0}}{4} - \\frac{B[1]_{0, 1} B[1]_{1, 1}}{4} + \\frac{B[1]_{1, 0} B[1]_{1, 1}}{4}\\right) \\cos{\\left(2 \\phi \\right)} + \\left(\\frac{B[1]_{0, 0}^{2}}{8} - \\frac{B[1]_{0, 0} B[1]_{1, 1}}{4} - \\frac{B[1]_{0, 1}^{2}}{8} - \\frac{B[1]_{0, 1} B[1]_{1, 0}}{4} - \\frac{B[1]_{1, 0}^{2}}{8} + \\frac{B[1]_{1, 1}^{2}}{8}\\right) \\sin{\\left(4 \\phi \\right)} + \\frac{B[1]_{0, 0} B[1]_{1, 0}}{8} - \\frac{B[1]_{0, 1} B[1]_{1, 1}}{8}$"
      ],
      "text/plain": [
       "omega + (-B[1][0, 0]*B[1][1, 0]/4 + B[1][0, 1]*B[1][1, 1]/4)*cos(2*phi)**2 + (B[1][0, 1]**2/4 - B[1][1, 0]**2/4)*sin(2*phi) + (-B[1][0, 0]*B[1][0, 1]/4 - B[1][0, 0]*B[1][1, 0]/8 + B[1][0, 1]*B[1][1, 1]/8 + B[1][1, 0]*B[1][1, 1]/4)*cos(4*phi) + (B[1][0, 0]*B[1][0, 1]/4 - B[1][0, 0]*B[1][1, 0]/4 - B[1][0, 1]*B[1][1, 1]/4 + B[1][1, 0]*B[1][1, 1]/4)*cos(2*phi) + (B[1][0, 0]**2/8 - B[1][0, 0]*B[1][1, 1]/4 - B[1][0, 1]**2/8 - B[1][0, 1]*B[1][1, 0]/4 - B[1][1, 0]**2/8 + B[1][1, 1]**2/8)*sin(4*phi) + B[1][0, 0]*B[1][1, 0]/8 - B[1][0, 1]*B[1][1, 1]/8"
      ]
     },
     "execution_count": 175,
     "metadata": {},
     "output_type": "execute_result"
    }
   ],
   "source": [
    "collect(dphi.coeff(dt), [cos(2*phi), sin(2*phi), cos(4*phi), sin(4*phi)])"
   ]
  },
  {
   "cell_type": "code",
   "execution_count": null,
   "id": "98d08716",
   "metadata": {},
   "outputs": [],
   "source": []
  }
 ],
 "metadata": {
  "kernelspec": {
   "display_name": "Python 3 (ipykernel)",
   "language": "python",
   "name": "python3"
  },
  "language_info": {
   "codemirror_mode": {
    "name": "ipython",
    "version": 3
   },
   "file_extension": ".py",
   "mimetype": "text/x-python",
   "name": "python",
   "nbconvert_exporter": "python",
   "pygments_lexer": "ipython3",
   "version": "3.9.7"
  }
 },
 "nbformat": 4,
 "nbformat_minor": 5
}
